{
 "cells": [
  {
   "cell_type": "markdown",
   "id": "4e76f701-383f-4078-9c8b-471d97bdb240",
   "metadata": {},
   "source": [
    "Git ściagawa\n",
    "\n",
    "git clone - pobiera repozytorium za pierwszym razem\n",
    "git pull - aktualizuje lokalne repo ze zdalnym\n",
    "git add <maska pliku> - przygotowuje pliki do sledzenia \"staging for commit\"\n",
    "git commit -m \"opis commita\" - \"stage\" wchodzi do paczki zmian\n",
    "git push - wysyla zmiany na zdalne repozytorium\n",
    "git stash - lokalne zmiany odklada \"na półkę\"; dobrze to zrobić przed git pull\n",
    "git stash pop - lokalne zmiany ściąga \"z półki\"\n",
    "    "
   ]
  }
 ],
 "metadata": {
  "kernelspec": {
   "display_name": "Python 3",
   "language": "python",
   "name": "python3"
  },
  "language_info": {
   "codemirror_mode": {
    "name": "ipython",
    "version": 3
   },
   "file_extension": ".py",
   "mimetype": "text/x-python",
   "name": "python",
   "nbconvert_exporter": "python",
   "pygments_lexer": "ipython3",
   "version": "3.9.1"
  }
 },
 "nbformat": 4,
 "nbformat_minor": 5
}
