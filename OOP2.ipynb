{
 "cells": [
  {
   "cell_type": "markdown",
   "metadata": {},
   "source": [
    "# Object Oriented Programming in Python\n",
    "---\n",
    "\n",
    "# 1. [Inheritance and Polymorphism](#inheritance)\n",
    "## 1.1 Creating a child via Inheritance \n",
    "## 1.2 play() is _Polymorphic_ \n",
    "## 1.3 Creating classes by name\n",
    "## 1.4 Abstract classes\n",
    "\n",
    "# 2. [OOP Tactics](#tactics) \n",
    "## 2.1 Multiple inheritance\n",
    "## 2.2 Method Resolution Order - MRO\n",
    "## 2.3 Mixins\n",
    "## 2.4 Animal Spirits\n",
    "### 2.4.1 Monkey Patching\n",
    "### 2.4.2 Duck Typing\n",
    "## 2.5 [Use _polymorphism_ instead of _if_](#if)"
   ]
  },
  {
   "cell_type": "markdown",
   "metadata": {},
   "source": [
    "---"
   ]
  },
  {
   "cell_type": "markdown",
   "metadata": {},
   "source": [
    "> # \"Object Oriented Programming is programming in the future tense\"\n",
    "> ## <div style=\"text-align: right\">- Bjarne Stroustrup, C++ </div>"
   ]
  },
  {
   "cell_type": "markdown",
   "metadata": {},
   "source": [
    "---\n",
    "# 1. Inheritance <a id=\"inheritance\"></a>"
   ]
  },
  {
   "cell_type": "code",
   "execution_count": 1,
   "metadata": {},
   "outputs": [],
   "source": [
    "class Instrument:\n",
    "    name = \"Instrument\"\n",
    "\n",
    "    def mysound(self):\n",
    "        return \"!&$%$^%*\"    \n",
    "    \n",
    "    def play(self):\n",
    "        print(\"%s: %s\" % (self.name, self.mysound()))"
   ]
  },
  {
   "cell_type": "markdown",
   "metadata": {},
   "source": [
    "## 1.1 Creating a child via Inheritance "
   ]
  },
  {
   "cell_type": "code",
   "execution_count": 2,
   "metadata": {},
   "outputs": [],
   "source": [
    "class Drums(Instrument):\n",
    "    name = \"Drums\"\n",
    "    def mysound(self):\n",
    "        return \"Booom Booooom\""
   ]
  },
  {
   "cell_type": "code",
   "execution_count": 3,
   "metadata": {},
   "outputs": [
    {
     "name": "stdout",
     "output_type": "stream",
     "text": [
      "Drums: Booom Booooom\n"
     ]
    }
   ],
   "source": [
    "drum = Drums()\n",
    "drum.play()"
   ]
  },
  {
   "cell_type": "code",
   "execution_count": 4,
   "metadata": {},
   "outputs": [
    {
     "data": {
      "text/plain": [
       "__main__.Drums"
      ]
     },
     "execution_count": 4,
     "metadata": {},
     "output_type": "execute_result"
    }
   ],
   "source": [
    "drum.__class__"
   ]
  },
  {
   "cell_type": "code",
   "execution_count": 5,
   "metadata": {},
   "outputs": [
    {
     "data": {
      "text/plain": [
       "'Drums'"
      ]
     },
     "execution_count": 5,
     "metadata": {},
     "output_type": "execute_result"
    }
   ],
   "source": [
    "drum.__class__.__name__"
   ]
  },
  {
   "cell_type": "code",
   "execution_count": 6,
   "metadata": {},
   "outputs": [],
   "source": [
    "class Instrument:\n",
    "    def mysound(self):\n",
    "        return \"!&$%$^%*\"    \n",
    "    def play(self):\n",
    "        print(\"%s@%s: %s\" % (self.__class__.__name__, self.player, self.mysound()))\n",
    "    def __init__(self, player):\n",
    "        self.player = player\n",
    "        \n",
    "class Drums(Instrument):\n",
    "    def __init__(self, player):\n",
    "        super().__init__(player)\n",
    "    def mysound(self):\n",
    "        return \"Booom Booooom\""
   ]
  },
  {
   "cell_type": "code",
   "execution_count": 7,
   "metadata": {},
   "outputs": [
    {
     "name": "stdout",
     "output_type": "stream",
     "text": [
      "Drums@Bob: Booom Booooom\n"
     ]
    }
   ],
   "source": [
    "drum = Drums('Bob')\n",
    "drum.play()"
   ]
  },
  {
   "cell_type": "code",
   "execution_count": 8,
   "metadata": {},
   "outputs": [],
   "source": [
    "class Guitar(Instrument):\n",
    "    def mysound(self):\n",
    "        return \"Dling Dling\""
   ]
  },
  {
   "cell_type": "code",
   "execution_count": 9,
   "metadata": {},
   "outputs": [
    {
     "name": "stdout",
     "output_type": "stream",
     "text": [
      "Guitar@Bill: Dling Dling\n"
     ]
    }
   ],
   "source": [
    "guitar = Guitar('Bill')\n",
    "guitar.play()"
   ]
  },
  {
   "cell_type": "markdown",
   "metadata": {},
   "source": [
    "## 1.2 play() is _Polymorphic_ "
   ]
  },
  {
   "cell_type": "code",
   "execution_count": 10,
   "metadata": {},
   "outputs": [],
   "source": [
    "rockband = [ Guitar('Bill'), Guitar('Dan'), Guitar('Jack'), Drums('Bob') ]"
   ]
  },
  {
   "cell_type": "code",
   "execution_count": 11,
   "metadata": {},
   "outputs": [
    {
     "name": "stdout",
     "output_type": "stream",
     "text": [
      "Guitar@Bill: Dling Dling\n",
      "Guitar@Dan: Dling Dling\n",
      "Guitar@Jack: Dling Dling\n",
      "Drums@Bob: Booom Booooom\n"
     ]
    }
   ],
   "source": [
    "for instrument in rockband: instrument.play()"
   ]
  },
  {
   "cell_type": "markdown",
   "metadata": {},
   "source": [
    "## 1.3 Creating classes by name"
   ]
  },
  {
   "cell_type": "code",
   "execution_count": 12,
   "metadata": {},
   "outputs": [
    {
     "data": {
      "text/plain": [
       "__main__.Guitar"
      ]
     },
     "execution_count": 12,
     "metadata": {},
     "output_type": "execute_result"
    }
   ],
   "source": [
    "globals()[\"Guitar\"]"
   ]
  },
  {
   "cell_type": "code",
   "execution_count": 13,
   "metadata": {},
   "outputs": [
    {
     "name": "stdout",
     "output_type": "stream",
     "text": [
      "Guitar@Bob: Dling Dling\n"
     ]
    }
   ],
   "source": [
    "guitar = globals()[\"Guitar\"]('Bob')\n",
    "guitar.play()"
   ]
  },
  {
   "cell_type": "raw",
   "metadata": {},
   "source": [
    "File orchestra.py"
   ]
  },
  {
   "cell_type": "markdown",
   "metadata": {},
   "source": [
    "```python\n",
    "import sys\n",
    "\n",
    "class Instrument:\n",
    "    def mysound(self):\n",
    "        return \"!&$%$^%*\"    \n",
    "    def play(self):\n",
    "        print(\"%s@%s: %s\" % (self.__class__.__name__, self.player, self.mysound()))\n",
    "    def __init__(self, player):\n",
    "        self.player = player\n",
    "        \n",
    "class Drums(Instrument):\n",
    "    def __init__(self, player):\n",
    "        super().__init__(player)\n",
    "    def mysound(self):\n",
    "        return \"Booom Booooom\"\n",
    "\n",
    "class Guitar(Instrument):\n",
    "    def mysound(self):\n",
    "        return \"Dling Dling\"        \n",
    "if __name__=='__main__':\n",
    "    rockband = [ globals()[s.split(':')[0]](s.split(':')[1]) for s in  sys.argv[1:] ]\n",
    "    for instrument in rockband: instrument.play()\n",
    "```"
   ]
  },
  {
   "cell_type": "markdown",
   "metadata": {},
   "source": [
    "## 1.4 Abstract classes"
   ]
  },
  {
   "cell_type": "code",
   "execution_count": 14,
   "metadata": {},
   "outputs": [],
   "source": [
    "instrument = Instrument('Bob')"
   ]
  },
  {
   "cell_type": "code",
   "execution_count": 15,
   "metadata": {},
   "outputs": [
    {
     "name": "stdout",
     "output_type": "stream",
     "text": [
      "Instrument@Bob: !&$%$^%*\n"
     ]
    }
   ],
   "source": [
    "instrument.play()"
   ]
  },
  {
   "cell_type": "code",
   "execution_count": 16,
   "metadata": {},
   "outputs": [],
   "source": [
    "from abc import ABC, abstractmethod\n",
    "\n",
    "class Instrument(ABC):\n",
    "    @abstractmethod\n",
    "    def mysound(self):\n",
    "        return \"!&$%$^%*\"    \n",
    "    def play(self):\n",
    "        print(\"%s@%s: %s\" % (self.__class__.__name__, self.player, self.mysound()))\n",
    "    def __init__(self, player):\n",
    "        self.player = player\n",
    "\n",
    "class Drums(Instrument):\n",
    "    def __init__(self, player):\n",
    "        super().__init__(player)\n",
    "    def mysound(self):\n",
    "        return \"Booom Booooom\"\n",
    "\n",
    "class Guitar(Instrument):\n",
    "    def mysound(self):\n",
    "        return \"Dling Dling\" "
   ]
  },
  {
   "cell_type": "code",
   "execution_count": 17,
   "metadata": {},
   "outputs": [
    {
     "ename": "TypeError",
     "evalue": "Can't instantiate abstract class Instrument with abstract method mysound",
     "output_type": "error",
     "traceback": [
      "\u001b[1;31m---------------------------------------------------------------------------\u001b[0m",
      "\u001b[1;31mTypeError\u001b[0m                                 Traceback (most recent call last)",
      "\u001b[1;32m<ipython-input-17-099b6b256bf9>\u001b[0m in \u001b[0;36m<module>\u001b[1;34m\u001b[0m\n\u001b[1;32m----> 1\u001b[1;33m \u001b[0minstrument\u001b[0m \u001b[1;33m=\u001b[0m \u001b[0mInstrument\u001b[0m\u001b[1;33m(\u001b[0m\u001b[1;34m'Bob'\u001b[0m\u001b[1;33m)\u001b[0m \u001b[1;31m# error\u001b[0m\u001b[1;33m\u001b[0m\u001b[1;33m\u001b[0m\u001b[0m\n\u001b[0m",
      "\u001b[1;31mTypeError\u001b[0m: Can't instantiate abstract class Instrument with abstract method mysound"
     ]
    }
   ],
   "source": [
    "instrument = Instrument('Bob') # error"
   ]
  },
  {
   "cell_type": "markdown",
   "metadata": {},
   "source": [
    "---\n",
    "# 2. OOP Tactics <a id=\"tactics\"></a>"
   ]
  },
  {
   "cell_type": "markdown",
   "metadata": {},
   "source": [
    "## 2.1 Multiple inheritance"
   ]
  },
  {
   "cell_type": "code",
   "execution_count": 18,
   "metadata": {},
   "outputs": [],
   "source": [
    "class Base:\n",
    "    def f(self):\n",
    "        print(\"f in Base\")\n",
    "\n",
    "class A(Base):\n",
    "    pass\n",
    "\n",
    "class B(Base):\n",
    "    def f(self):\n",
    "        print(\"f in B\")\n"
   ]
  },
  {
   "cell_type": "markdown",
   "metadata": {},
   "source": [
    "![](img/Diagram1.png)"
   ]
  },
  {
   "cell_type": "code",
   "execution_count": 19,
   "metadata": {},
   "outputs": [],
   "source": [
    "a = A()\n",
    "b = B()"
   ]
  },
  {
   "cell_type": "code",
   "execution_count": 20,
   "metadata": {},
   "outputs": [
    {
     "name": "stdout",
     "output_type": "stream",
     "text": [
      "f in Base\n"
     ]
    }
   ],
   "source": [
    "a.f()"
   ]
  },
  {
   "cell_type": "code",
   "execution_count": 21,
   "metadata": {},
   "outputs": [
    {
     "name": "stdout",
     "output_type": "stream",
     "text": [
      "f in B\n"
     ]
    }
   ],
   "source": [
    "b.f()"
   ]
  },
  {
   "cell_type": "code",
   "execution_count": 22,
   "metadata": {},
   "outputs": [],
   "source": [
    "class Base:\n",
    "    def f(self):\n",
    "        print(\"f in Base\")\n",
    "\n",
    "class A(Base):\n",
    "    pass\n",
    "\n",
    "class B(Base):\n",
    "    def f(self):\n",
    "        print(\"f in B\")\n",
    "\n",
    "class C(Base):\n",
    "    def f(self):\n",
    "        print(\"f in C\")\n",
    "        \n",
    "class D(B,C):\n",
    "    pass    "
   ]
  },
  {
   "cell_type": "markdown",
   "metadata": {},
   "source": [
    "![Diagram2.png](img/Diagram2.png)"
   ]
  },
  {
   "cell_type": "markdown",
   "metadata": {},
   "source": [
    "Diamond inheritance or *Deadly Diamond of Death*"
   ]
  },
  {
   "cell_type": "code",
   "execution_count": 23,
   "metadata": {},
   "outputs": [],
   "source": [
    "a = A()\n",
    "b = B()\n",
    "c = C()\n",
    "d = D()"
   ]
  },
  {
   "cell_type": "code",
   "execution_count": 24,
   "metadata": {},
   "outputs": [
    {
     "name": "stdout",
     "output_type": "stream",
     "text": [
      "f in C\n"
     ]
    }
   ],
   "source": [
    "c.f()"
   ]
  },
  {
   "cell_type": "code",
   "execution_count": 25,
   "metadata": {},
   "outputs": [
    {
     "name": "stdout",
     "output_type": "stream",
     "text": [
      "f in B\n"
     ]
    }
   ],
   "source": [
    "d.f()"
   ]
  },
  {
   "cell_type": "code",
   "execution_count": 26,
   "metadata": {},
   "outputs": [
    {
     "name": "stdout",
     "output_type": "stream",
     "text": [
      "<__main__.D object at 0x00000236E485D5E0>\n"
     ]
    },
    {
     "data": {
      "text/plain": [
       "<method-wrapper '__str__' of D object at 0x00000236E485D5E0>"
      ]
     },
     "execution_count": 26,
     "metadata": {},
     "output_type": "execute_result"
    }
   ],
   "source": [
    "print(str(d))\n",
    "d.__str__"
   ]
  },
  {
   "cell_type": "markdown",
   "metadata": {},
   "source": [
    "## 2.2 Method Resolution Order - MRO\n",
    "C3 superclass linearization is an algorithm used primarily to obtain the order in which methods should be inherited in the presence of multiple inheritance. In other words, the output of C3 superclass linearization is a deterministic Method Resolution Order (MRO).\n",
    "\n",
    "The C3 superclass linearization of a class is the sum of the class plus a unique merge of the linearizations of its parents and a list of the parents itself. The list of parents as the last argument to the merge process preserves the local precedence order of direct parent classes."
   ]
  },
  {
   "cell_type": "code",
   "execution_count": 27,
   "metadata": {},
   "outputs": [],
   "source": [
    "class D(B,C):\n",
    "    pass    \n",
    "\n",
    "d = D()"
   ]
  },
  {
   "cell_type": "code",
   "execution_count": 28,
   "metadata": {},
   "outputs": [
    {
     "name": "stdout",
     "output_type": "stream",
     "text": [
      "f in B\n"
     ]
    }
   ],
   "source": [
    "d.f()"
   ]
  },
  {
   "cell_type": "code",
   "execution_count": 29,
   "metadata": {},
   "outputs": [
    {
     "data": {
      "text/plain": [
       "[__main__.D, __main__.B, __main__.C, __main__.Base, object]"
      ]
     },
     "execution_count": 29,
     "metadata": {},
     "output_type": "execute_result"
    }
   ],
   "source": [
    "D.mro()"
   ]
  },
  {
   "cell_type": "code",
   "execution_count": 30,
   "metadata": {},
   "outputs": [
    {
     "name": "stdout",
     "output_type": "stream",
     "text": [
      "f in C\n"
     ]
    }
   ],
   "source": [
    "class E(C,B):\n",
    "    pass\n",
    "\n",
    "e = E()\n",
    "e.f()"
   ]
  },
  {
   "cell_type": "code",
   "execution_count": 31,
   "metadata": {},
   "outputs": [
    {
     "data": {
      "text/plain": [
       "[__main__.E, __main__.C, __main__.B, __main__.Base, object]"
      ]
     },
     "execution_count": 31,
     "metadata": {},
     "output_type": "execute_result"
    }
   ],
   "source": [
    "E.mro()"
   ]
  },
  {
   "cell_type": "code",
   "execution_count": 32,
   "metadata": {},
   "outputs": [
    {
     "data": {
      "text/plain": [
       "(__main__.E, __main__.C, __main__.B, __main__.Base, object)"
      ]
     },
     "execution_count": 32,
     "metadata": {},
     "output_type": "execute_result"
    }
   ],
   "source": [
    "E.__mro__"
   ]
  },
  {
   "cell_type": "code",
   "execution_count": 33,
   "metadata": {},
   "outputs": [],
   "source": [
    "class Type(type):\n",
    "    def __repr__(cls):\n",
    "        return cls.__name__\n",
    "\n",
    "class O(object, metaclass=Type): pass\n"
   ]
  },
  {
   "cell_type": "raw",
   "metadata": {},
   "source": [
    "“Metaclasses are deeper magic than 99% of users should ever worry about. If you wonder whether you need them, you don’t (the people who actually need them know with certainty that they need them, and don’t need an explanation about why).”\n",
    "\n",
    "— Tim Peters, Zen of Python"
   ]
  },
  {
   "cell_type": "raw",
   "metadata": {},
   "source": [
    "Metaclasses are to classes as classes are to objects. They are classes for classes (hence the expression \"meta\")\n",
    "\n",
    "A metaclass is not part of an object's class hierarchy whereas base classes are."
   ]
  },
  {
   "cell_type": "code",
   "execution_count": 34,
   "metadata": {},
   "outputs": [],
   "source": [
    "class A(O): pass\n",
    "\n",
    "class B(O): pass\n",
    "\n",
    "class C(O): pass\n",
    "\n",
    "class D(O): pass\n",
    "\n",
    "class E(O): pass\n",
    "\n",
    "class K1(A, B, C): pass\n",
    "\n",
    "class K2(D, B, E): pass\n",
    "\n",
    "class K3(D, A): pass\n",
    "\n",
    "class Z(K1, K2, K3): pass"
   ]
  },
  {
   "cell_type": "markdown",
   "metadata": {},
   "source": [
    "![](img/C3.png)"
   ]
  },
  {
   "cell_type": "code",
   "execution_count": 35,
   "metadata": {},
   "outputs": [
    {
     "data": {
      "text/plain": [
       "[Z, K1, K2, K3, D, A, B, C, E, O, object]"
      ]
     },
     "execution_count": 35,
     "metadata": {},
     "output_type": "execute_result"
    }
   ],
   "source": [
    "Z.mro()"
   ]
  },
  {
   "cell_type": "markdown",
   "metadata": {},
   "source": [
    "## 2.3 Mixins"
   ]
  },
  {
   "cell_type": "raw",
   "metadata": {},
   "source": [
    "Mixin - A mixin is a short, self-contained class that is intended to be composed with other classes or mixins. "
   ]
  },
  {
   "cell_type": "code",
   "execution_count": 36,
   "metadata": {},
   "outputs": [],
   "source": [
    "class ElectricMixin():\n",
    "    def plug_in():\n",
    "        print(\"It is ON\")\n",
    "\n",
    "class ElectricGuitar(ElectricMixin, Guitar):\n",
    "    pass"
   ]
  },
  {
   "cell_type": "markdown",
   "metadata": {},
   "source": [
    "The main differences between Mixins and Decorators are:\n",
    "\n",
    "- Decorators wrap functionality around a piece of code.\n",
    " - Decorators cannot add new methods or new pieces of code.\n",
    "- Mixins add functionality to code using Inheritance.\n",
    " - Mixins only work with Object-Oriented Programming and Classes.\n",
    " - You cannot use Mixins to modify a function or a method, only classes."
   ]
  },
  {
   "cell_type": "markdown",
   "metadata": {},
   "source": [
    "```python\n",
    "from werkzeug import BaseRequest, AcceptMixin, ETagRequestMixin, UserAgentMixin, AuthenticationMixin\n",
    "\n",
    "class Request(AcceptMixin, ETagRequestMixin, UserAgentMixin, AuthenticationMixin, BaseRequest):\n",
    "    pass\n",
    "```"
   ]
  },
  {
   "cell_type": "markdown",
   "metadata": {},
   "source": [
    "## 2.4 Animal Spirits"
   ]
  },
  {
   "cell_type": "markdown",
   "metadata": {},
   "source": [
    "### 2.4.1 Monkey Patching"
   ]
  },
  {
   "cell_type": "markdown",
   "metadata": {},
   "source": [
    "**What is monkey patching?**\n",
    "\n",
    "\n",
    "Monkey patching is a technique used to dynamically update the behavior of a piece of code at run-time.\n",
    "\n",
    "**Why use monkey patching?**\n",
    "\n",
    "\n",
    "It allows us to modify or extend the behavior of libraries, modules, classes or methods at runtime without actually modifying the source code.\n",
    "\n",
    "\n",
    "**When is monkey patching used?**\n",
    "- To extend or modify the behavior of third-party or built-in libraries or methods at runtime without touching the original code.\n",
    "- During testing to mock the behavior of libraries, modules, classes or any objects.\n",
    "- To quickly fix some issues if we do not have the time or resources to roll-out a proper fix to the original software."
   ]
  },
  {
   "cell_type": "code",
   "execution_count": 37,
   "metadata": {},
   "outputs": [
    {
     "data": {
      "text/plain": [
       "1"
      ]
     },
     "execution_count": 37,
     "metadata": {},
     "output_type": "execute_result"
    }
   ],
   "source": [
    "class A():\n",
    "    def f(self):\n",
    "        return 1\n",
    "    \n",
    "a = A()\n",
    "a.f()"
   ]
  },
  {
   "cell_type": "code",
   "execution_count": 38,
   "metadata": {},
   "outputs": [],
   "source": [
    "def f(x):\n",
    "    return -1\n",
    "\n",
    "A.f = f"
   ]
  },
  {
   "cell_type": "code",
   "execution_count": 39,
   "metadata": {},
   "outputs": [
    {
     "data": {
      "text/plain": [
       "-1"
      ]
     },
     "execution_count": 39,
     "metadata": {},
     "output_type": "execute_result"
    }
   ],
   "source": [
    "a.f()"
   ]
  },
  {
   "cell_type": "markdown",
   "metadata": {},
   "source": [
    "```python\n",
    "#from the Pandas documentation\n",
    "import pandas as pd\n",
    "def just_foo_cols(self):\n",
    "    \"\"\"Get a list of column names containing the string 'foo'\n",
    "\n",
    "    \"\"\"\n",
    "    return [x for x in self.columns if 'foo' in x]\n",
    "\n",
    "pd.DataFrame.just_foo_cols = just_foo_cols # monkey-patch the DataFrame class\n",
    "df = pd.DataFrame([list(range(4))], columns=[\"A\",\"foo\",\"foozball\",\"bar\"])\n",
    "df.just_foo_cols()\n",
    "del pd.DataFrame.just_foo_cols # you can also remove the new method\n",
    "```"
   ]
  },
  {
   "cell_type": "markdown",
   "metadata": {},
   "source": [
    "### 2.4.2 Duck Typing"
   ]
  },
  {
   "cell_type": "markdown",
   "metadata": {},
   "source": [
    "In computer programming with object-oriented programming languages, duck typing is a style of dynamic typing in which an object's current set of methods and properties determines the valid semantics, rather than its inheritance from a particular class or implementation of a specific interface."
   ]
  },
  {
   "cell_type": "code",
   "execution_count": 40,
   "metadata": {},
   "outputs": [
    {
     "name": "stdout",
     "output_type": "stream",
     "text": [
      "Dling Dling\n",
      "Dling Dling\n",
      "Booom Booooom\n"
     ]
    }
   ],
   "source": [
    "class Drums():\n",
    "    def play(self):\n",
    "        return \"Booom Booooom\"\n",
    "    \n",
    "class Guitar():\n",
    "    def play(self):\n",
    "        return \"Dling Dling\" \n",
    "    \n",
    "orchestra = [ Guitar(), Guitar(), Drums() ]\n",
    "for instrument in orchestra:\n",
    "    print(instrument.play())"
   ]
  },
  {
   "cell_type": "markdown",
   "metadata": {},
   "source": [
    "## 2.5 Use _polymorphism_ instead of _if_ <a id=\"if\"></a>"
   ]
  },
  {
   "cell_type": "markdown",
   "metadata": {},
   "source": [
    "### WRONG"
   ]
  },
  {
   "cell_type": "code",
   "execution_count": 41,
   "metadata": {},
   "outputs": [
    {
     "data": {
      "text/plain": [
       "75"
      ]
     },
     "execution_count": 41,
     "metadata": {},
     "output_type": "execute_result"
    }
   ],
   "source": [
    "class Swallow():\n",
    "    def __init__(self, s_type):\n",
    "        self.type = s_type\n",
    "        self.base_speed = 120\n",
    "        self.load_factor = 15\n",
    "        self.number_of_coconuts = 3\n",
    "        \n",
    "    def get_speed(self):\n",
    "        if self.type=='European':\n",
    "            return self.base_speed\n",
    "        elif self.type=='African':\n",
    "            return self.base_speed - self.load_factor * self.number_of_coconuts;\n",
    "        elif self.type=='Norwegian':\n",
    "            return self.base_speed - self.load_factor * self.number_of_coconuts * self.number_of_coconuts;\n",
    "        else:\n",
    "            return 0\n",
    "        \n",
    "swallow = Swallow('African')\n",
    "swallow.get_speed()"
   ]
  },
  {
   "cell_type": "markdown",
   "metadata": {},
   "source": [
    "### RIGHT"
   ]
  },
  {
   "cell_type": "code",
   "execution_count": 42,
   "metadata": {},
   "outputs": [
    {
     "data": {
      "text/plain": [
       "75"
      ]
     },
     "execution_count": 42,
     "metadata": {},
     "output_type": "execute_result"
    }
   ],
   "source": [
    "from abc import ABC, abstractmethod\n",
    "\n",
    "class Swallow(ABC):\n",
    "    def __init__(self):\n",
    "        self.base_speed = 120\n",
    "        self.load_factor = 15\n",
    "        self.number_of_coconuts = 3\n",
    "    \n",
    "    @abstractmethod\n",
    "    def get_speed(self):\n",
    "        pass\n",
    "    \n",
    "class EuropeanSwallow(Swallow):\n",
    "    def get_speed(self):\n",
    "            return self.base_speed\n",
    "\n",
    "class AfricanSwallow(Swallow):\n",
    "    def get_speed(self):\n",
    "            return self.base_speed - self.load_factor * self.number_of_coconuts;\n",
    "\n",
    "class NorwegianSwallow(Swallow):        \n",
    "    def get_speed(self):\n",
    "            return self.base_speed - self.load_factor * self.number_of_coconuts * self.number_of_coconuts;\n",
    "\n",
    "swallow = AfricanSwallow()\n",
    "swallow.get_speed()"
   ]
  },
  {
   "cell_type": "markdown",
   "metadata": {},
   "source": [
    "### WORST - NEVER CHECK THE TYPE"
   ]
  },
  {
   "cell_type": "code",
   "execution_count": 43,
   "metadata": {},
   "outputs": [
    {
     "data": {
      "text/plain": [
       "75"
      ]
     },
     "execution_count": 43,
     "metadata": {},
     "output_type": "execute_result"
    }
   ],
   "source": [
    "class Swallow():\n",
    "    def __init__(self):\n",
    "        self.base_speed = 120\n",
    "        self.load_factor = 15\n",
    "        self.number_of_coconuts = 3\n",
    "        \n",
    "    def get_speed(self):\n",
    "        if self.__class__.__name__=='EuropeanSwallow':\n",
    "            return self.base_speed\n",
    "        elif self.__class__.__name__=='AfricanSwallow':\n",
    "            return self.base_speed - self.load_factor * self.number_of_coconuts;\n",
    "        elif self.__class__.__name__=='NorwegianSwallow':\n",
    "            return self.base_speed - self.load_factor * self.number_of_coconuts * self.number_of_coconuts;\n",
    "        else:\n",
    "            return 0\n",
    "        \n",
    "    \n",
    "class EuropeanSwallow(Swallow):\n",
    "    pass\n",
    "\n",
    "class AfricanSwallow(Swallow):\n",
    "    pass\n",
    "\n",
    "class NorwegianSwallow(Swallow):        \n",
    "    pass\n",
    "\n",
    "swallow = AfricanSwallow()\n",
    "swallow.get_speed()"
   ]
  },
  {
   "cell_type": "markdown",
   "metadata": {},
   "source": [
    "```python\n",
    "class SumPowerOfRecommendationStrategy(TemperatureBehavior):\n",
    "    def measurement(self, data):\n",
    "        result = 0\n",
    "        for i in data:\n",
    "            result += i['stars']\n",
    "        return result\n",
    "\n",
    "\n",
    "class SumNumberOfOccurrencesStrategy(TemperatureBehavior):\n",
    "    def measurement(self, data):\n",
    "        result = 0\n",
    "        for i in data:\n",
    "            result += i.turnover\n",
    "        return result\n",
    "\n",
    "\n",
    "class SumMIXStrategy(TemperatureBehavior):\n",
    "    def measurement(self, data):\n",
    "        result = 0\n",
    "        for i in data:\n",
    "            result += 2 * i.turnover + 3 * i.stars\n",
    "        return result\n",
    "    \n",
    "class ConcreteFactoryA(AbstractFactory):\n",
    "    def create_recommendations(self) -> AbstractRecommendations:\n",
    "        return RecommendationsA(SumPowerOfRecommendationStrategy())\n",
    "\n",
    "class ConcreteFactoryB(AbstractFactory):\n",
    "    def create_recommendations(self) -> AbstractRecommendations:\n",
    "        return RecommendationsA(SumNumberOfOccurrencesStrategy())\n",
    "\n",
    "recommendation_factory = ConcreteFactoryB()\n",
    "```"
   ]
  },
  {
   "cell_type": "code",
   "execution_count": null,
   "metadata": {},
   "outputs": [],
   "source": []
  }
 ],
 "metadata": {
  "kernelspec": {
   "display_name": "Python 3",
   "language": "python",
   "name": "python3"
  },
  "language_info": {
   "codemirror_mode": {
    "name": "ipython",
    "version": 3
   },
   "file_extension": ".py",
   "mimetype": "text/x-python",
   "name": "python",
   "nbconvert_exporter": "python",
   "pygments_lexer": "ipython3",
   "version": "3.9.1"
  }
 },
 "nbformat": 4,
 "nbformat_minor": 4
}
