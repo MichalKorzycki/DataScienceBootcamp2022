{
 "cells": [
  {
   "cell_type": "code",
   "execution_count": null,
   "id": "e9e2354c-8493-436d-ae89-8380c86925c8",
   "metadata": {},
   "outputs": [],
   "source": [
    "class Experiment:\n",
    "    def __init__(self, algorithm, rates):\n",
    "        self.trials = []\n",
    "        self.convertions = [0,0]\n",
    "        self.algorithm = algorithm\n",
    "        self.rates = rates\n",
    "        self.payoff = 0\n",
    "    \n",
    "    def run(self, N):\n",
    "        pass\n",
    "    \n",
    "class Algorithm:\n",
    "    def update(self, arm, result):\n",
    "        pass\n",
    "    def select_arm(self):\n",
    "        pass\n",
    "    \n",
    "    \n",
    "def data_preparation(experiment, arm, step=20):\n",
    "    return [], []"
   ]
  },
  {
   "cell_type": "markdown",
   "id": "4ed3875a-1682-4a71-a093-78e464fc3363",
   "metadata": {},
   "source": [
    "Experiment:\n",
    " - wykonuje N przebiegów\n",
    " - w 1 przebiegu wybiera ramię z algorytmu\n",
    " - bada konwersję wg. `rates` i ramienia \n",
    " - w 1 przebiegu uzupełnia listę `trials` z wynikiem\n",
    " - zlicza payoff z każdą konwersją\n",
    " - zlicza konwersje w poszczególnych przebiegach\n",
    " \n",
    "data_preparation\n",
    " - przygotowywuje dane do wykresu\n",
    "   - x to kolejne liczby\n",
    "   - y to ile było konwersji dla danego ramienia NARASTAJĄCO\n",
    "   - `step` - ustawia okna zliczenia (eg. pierwsze 20 trials, 20-39 trials etc.)"
   ]
  },
  {
   "cell_type": "raw",
   "id": "70d208b1-3904-44d6-b501-71d31cbb2689",
   "metadata": {},
   "source": [
    "Git ściagawa\n",
    "\n",
    "git clone - pobiera repozytorium za pierwszym razem\n",
    "git pull - aktualizuje lokalne repo ze zdalnym\n",
    "git add <maska pliku> - przygotowuje pliki do sledzenia \"staging for commit\"\n",
    "git commit -m \"opis commita\" - \"stage\" wchodzi do paczki zmian\n",
    "git push - wysyla zmiany na zdalne repozytorium\n",
    "git stash - lokalne zmiany odklada \"na półkę\"; dobrze to zrobić przed git pull\n",
    "git stash pop - lokalne zmiany ściąga \"z półki\""
   ]
  }
 ],
 "metadata": {
  "kernelspec": {
   "display_name": "Python 3",
   "language": "python",
   "name": "python3"
  },
  "language_info": {
   "codemirror_mode": {
    "name": "ipython",
    "version": 3
   },
   "file_extension": ".py",
   "mimetype": "text/x-python",
   "name": "python",
   "nbconvert_exporter": "python",
   "pygments_lexer": "ipython3",
   "version": "3.9.1"
  }
 },
 "nbformat": 4,
 "nbformat_minor": 5
}
